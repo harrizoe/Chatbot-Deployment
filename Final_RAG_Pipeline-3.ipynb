{
 "cells": [
  {
   "cell_type": "markdown",
   "metadata": {},
   "source": [
    "# RAG Model Pipeline without Reformulation\n",
    "\n",
    "This notebook implements a baseline Retrieval-Augmented Generation (RAG) pipeline without any query reformulation. It is developed as part of UNHCR chatbot experimentation to evaluate how raw user queries perform when passed directly to a retriever-augmented LLM. "
   ]
  },
  {
   "cell_type": "markdown",
   "metadata": {},
   "source": [
    "### Step 1: Imports and Environment Setup\n",
    "\n",
    "This section imports libraries, downloads required NLTK data, and loads environment variables."
   ]
  },
  {
   "cell_type": "code",
   "execution_count": 1,
   "metadata": {},
   "outputs": [
    {
     "name": "stderr",
     "output_type": "stream",
     "text": [
      "c:\\Users\\eloe23ac\\Documents\\RAG-Model\\rag_model_env\\Lib\\site-packages\\tqdm\\auto.py:21: TqdmWarning: IProgress not found. Please update jupyter and ipywidgets. See https://ipywidgets.readthedocs.io/en/stable/user_install.html\n",
      "  from .autonotebook import tqdm as notebook_tqdm\n",
      "[nltk_data] Downloading package punkt to\n",
      "[nltk_data]     C:\\Users\\eloe23ac\\AppData\\Roaming\\nltk_data...\n",
      "[nltk_data]   Package punkt is already up-to-date!\n",
      "[nltk_data] Downloading package punkt_tab to\n",
      "[nltk_data]     C:\\Users\\eloe23ac\\AppData\\Roaming\\nltk_data...\n",
      "[nltk_data]   Package punkt_tab is already up-to-date!\n"
     ]
    },
    {
     "data": {
      "text/plain": [
       "True"
      ]
     },
     "execution_count": 1,
     "metadata": {},
     "output_type": "execute_result"
    }
   ],
   "source": [
    "# LangChain components for building RAG pipeline \n",
    "from langchain.schema import Document                              # Core document type used in LangChain\n",
    "from langchain.text_splitter import RecursiveCharacterTextSplitter # Splits text into chunks with overlap\n",
    "from langchain.embeddings import HuggingFaceEmbeddings             # Embedding wrapper using HuggingFace models\n",
    "from langchain.vectorstores import Pinecone                        # Vector store connector for Pinecone\n",
    "from langchain.docstore.in_memory import InMemoryDocstore          # Optional in-memory storage (e.g. for debugging or chaining)\n",
    "from langchain.prompts import PromptTemplate                       # Template for creating prompts and specifying input/output formats for LLMs\n",
    "from langchain.llms import HuggingFacePipeline                     # Use HuggingFace pipelines as LLMs\n",
    "from langchain.chains import LLMChain                              # Basic chain to connect prompt + LLM\n",
    "\n",
    "# External dependencies\n",
    "import pinecone                                                    # Pinecone client for vector storage\n",
    "import os                                                          # OS tools for accessing environment variables\n",
    "from dotenv import load_dotenv                                     # Load environment variables from .env file\n",
    "import json                                                        # For reading/writing JSON configs or outputs\n",
    "import docx                                                        # For reading .docx files  \n",
    "\n",
    "# NLTK for tokenization                                                                                         \n",
    "from nltk.tokenize import word_tokenize                            # Tokenizes strings into words\n",
    "import nltk                                                        # Natural Language Toolkit — useful for preprocessing tasks\n",
    "\n",
    "# HuggingFacce transformers for LLMs and pipelines\n",
    "from transformers import pipeline                                  # For loading pre-trained NLP models\n",
    "\n",
    "\n",
    "# Download required NLTK tokenizer models\n",
    "nltk.download('punkt')                                             # Sentence & word tokenizer model\n",
    "nltk.download('punkt_tab')                                         # Associated tokenizer table\n",
    "\n"
   ]
  },
  {
   "cell_type": "markdown",
   "metadata": {},
   "source": [
    "### Step 2: Document Preprocessing\n",
    "\n",
    "\n",
    "Create functions to convert DOCX filenames to URLs, extract text from DOCX files, and load documents with metadata (source/URLs). \n"
   ]
  },
  {
   "cell_type": "code",
   "execution_count": 2,
   "metadata": {},
   "outputs": [],
   "source": [
    "def docx_filename_to_url(filename: str) -> str:\n",
    "    \"\"\"\"\n",
    "    Convert a filename like:\n",
    "        help.unhcr.org_denmark_about-unhcr-in-denmark_.docx\n",
    "    to a proper URL like:\n",
    "        https://help.unhcr.org/denmark/about-unhcr-in-denmark/\n",
    "\n",
    "    This function removes the .docx extension, splits the remaining string \n",
    "    by underscores, and builds a structured UNHCR help site URL.\n",
    "    \"\"\"\n",
    "    # Remove the .docx extension, split by underscores, and filter out empty parts\n",
    "    name_no_ext = filename.replace(\".docx\", \"\")     \n",
    "    parts = name_no_ext.split(\"_\")                   \n",
    "    parts = [p for p in parts if p]              \n",
    "    \n",
    "    # If there are no parts, return an empty string, otherwise build the URL, assume the first part is the domain and the rest are path segments. \n",
    "    # If there are parts, join them with slashes and return the URL.\n",
    "    if not parts:\n",
    "        return \"\"\n",
    "    domain = parts[0]\n",
    "    path_parts = parts[1:]\n",
    "    url = \"https://\" + domain + \"/\"\n",
    "    if path_parts:\n",
    "        url += \"/\".join(path_parts) + \"/\"\n",
    "    return url\n"
   ]
  },
  {
   "cell_type": "code",
   "execution_count": 3,
   "metadata": {},
   "outputs": [],
   "source": [
    "def build_doc_url_dict(raw_folder: str) -> dict:\n",
    "    \"\"\"\n",
    "    Iterate through all .docx files in the given folder and build a mapping:\n",
    "    {full_file_path: corresponding UNHCR help site URL}.\n",
    "\n",
    "    This helps preserve a reference to the original source when loading document content.\n",
    "    \"\"\"\n",
    "    # Initialize an empty directory to store the mapping of file paths to URLs.\n",
    "    doc_url_dict = {}\n",
    "    for filename in os.listdir(raw_folder):\n",
    "        if filename.endswith(\".docx\"):\n",
    "            doc_path = os.path.join(raw_folder, filename)\n",
    "            url = docx_filename_to_url(filename)\n",
    "            doc_url_dict[doc_path] = url\n",
    "    return doc_url_dict"
   ]
  },
  {
   "cell_type": "code",
   "execution_count": 4,
   "metadata": {},
   "outputs": [
    {
     "name": "stdout",
     "output_type": "stream",
     "text": [
      "\n",
      " Generated URLs from DOCX files:\n",
      "--------------------------------------------------------------------------------\n",
      "01. https://help.unhcr.org/denmark/about-unhcr-in-denmark/\n",
      "02. https://help.unhcr.org/denmark/applying-for-family-reunification/\n",
      "03. https://help.unhcr.org/denmark/how-to-apply-for-asylum-in-denmark/\n",
      "04. https://help.unhcr.org/denmark/how-to-apply-for-asylum-in-denmark/can-i-appeal-a-negative-decision/\n",
      "05. https://help.unhcr.org/denmark/how-to-apply-for-asylum-in-denmark/how-to-apply-for-asylum/\n",
      "06. https://help.unhcr.org/denmark/how-to-apply-for-asylum-in-denmark/i-need-a-lawyer-and-or-an-interpreter-in-my-case/\n",
      "07. https://help.unhcr.org/denmark/how-to-apply-for-asylum-in-denmark/what-are-my-rights-and-obligations-as-asylum-seeker/\n",
      "08. https://help.unhcr.org/denmark/how-to-apply-for-asylum-in-denmark/what-can-be-the-decision-in-my-case/\n",
      "09. https://help.unhcr.org/denmark/how-to-apply-for-asylum-in-denmark/what-happens-after-i-apply-for-asylum/\n",
      "10. https://help.unhcr.org/denmark/how-to-report-misconduct/\n",
      "11. https://help.unhcr.org/denmark/information-for-people-fleeing-ukraine/\n",
      "12. https://help.unhcr.org/denmark/uk/about-unhcr-in-denmark/about-unhcr-in-denmark/\n",
      "13. https://help.unhcr.org/denmark/uk/applying-for-family-reunification/applying-for-family-reunification/\n",
      "14. https://help.unhcr.org/denmark/uk/how-to-apply-for-asylum-in-denmark/can-i-appeal-a-negative-decision/can-i-appeal-a-negative-decision/\n",
      "15. https://help.unhcr.org/denmark/uk/how-to-apply-for-asylum-in-denmark/how-to-apply-for-asylum/how-to-apply-for-asylum/\n",
      "16. https://help.unhcr.org/denmark/uk/how-to-apply-for-asylum-in-denmark/i-need-a-lawyer-and-or-an-interpreter-in-my-case/i-need-a-lawyer-and-or-an-interpreter-in-my-case/\n",
      "17. https://help.unhcr.org/denmark/uk/how-to-apply-for-asylum-in-denmark/what-are-my-rights-and-obligations-as-asylum-seeker/what-are-my-rights-and-obligations-as-asylum-seeker/\n",
      "18. https://help.unhcr.org/denmark/uk/how-to-apply-for-asylum-in-denmark/what-can-be-the-decision-in-my-case/what-can-be-the-decision-in-my-case/\n",
      "19. https://help.unhcr.org/denmark/uk/how-to-apply-for-asylum-in-denmark/what-happens-after-i-apply-for-asylum/what-happens-after-i-apply-for-asylum/\n",
      "20. https://help.unhcr.org/denmark/uk/how-to-apply-for-asylum-in-denmark/how-to-apply-for-asylum-in-denmark/\n",
      "21. https://help.unhcr.org/denmark/uk/how-to-report-misconduct/how-to-report-misconduct/\n",
      "22. https://help.unhcr.org/denmark/uk/information-for-people-fleeing-ukraine/information-for-people-fleeing-ukraine/\n",
      "23. https://help.unhcr.org/denmark/uk/warnings-about-risks-of-human-trafficking/warnings-about-risks-of-human-trafficking/\n",
      "24. https://help.unhcr.org/denmark/uk/where-to-find-help-in-denmark/counseling-services-for-the-asylum-procedure-and-legal-support/counseling-services-for-the-asylum-procedure-and-legal-support/\n",
      "25. https://help.unhcr.org/denmark/uk/where-to-find-help-in-denmark/emergency-services/emergency-services/\n",
      "26. https://help.unhcr.org/denmark/uk/where-to-find-help-in-denmark/helplines/helplines/\n",
      "27. https://help.unhcr.org/denmark/uk/where-to-find-help-in-denmark/information-and-help-on-how-to-protect-from-coronavirus-covid-19/information-and-help-on-how-to-protect-from-coronavirus-covid-19/\n",
      "28. https://help.unhcr.org/denmark/uk/where-to-find-help-in-denmark/where-to-find-help-in-denmark/\n",
      "29. https://help.unhcr.org/denmark/uk/welcome/\n",
      "30. https://help.unhcr.org/denmark/warnings-about-risks-of-human-trafficking/\n",
      "31. https://help.unhcr.org/denmark/where-to-find-help-in-denmark/\n",
      "32. https://help.unhcr.org/denmark/where-to-find-help-in-denmark/counseling-services-for-the-asylum-procedure-and-legal-support/\n",
      "33. https://help.unhcr.org/denmark/where-to-find-help-in-denmark/emergency-services/\n",
      "34. https://help.unhcr.org/denmark/where-to-find-help-in-denmark/helplines/\n",
      "35. https://help.unhcr.org/denmark/where-to-find-help-in-denmark/i-need-help-to-find-a-missing-family-member-in-another-country-family-tracing/\n",
      "36. https://help.unhcr.org/denmark/where-to-find-help-in-denmark/information-and-help-on-how-to-protect-from-coronavirus-covid-19/\n",
      "--------------------------------------------------------------------------------\n",
      "Total URLs: 36\n"
     ]
    }
   ],
   "source": [
    "# Get all DOCX files from data directory\n",
    "data_dir = \"../data/raw\"\n",
    "docx_files = [f for f in os.listdir(data_dir) if f.endswith('.docx')]\n",
    "\n",
    "# Manual inspection to verify the resulting URLs look valid and follow the UNHCR structure.\n",
    "print(\"\\n Generated URLs from DOCX files:\")\n",
    "print(\"-\" * 80)\n",
    "for i, filename in enumerate(docx_files, 1):\n",
    "    url = docx_filename_to_url(filename)\n",
    "    print(f\"{i:02d}. {url}\")\n",
    "print(\"-\" * 80)\n",
    "print(f\"Total URLs: {len(docx_files)}\")"
   ]
  },
  {
   "cell_type": "code",
   "execution_count": 5,
   "metadata": {},
   "outputs": [],
   "source": [
    "def extract_text_from_docx(docx_path: str) -> str:\n",
    "    \"\"\"\n",
    "    Extract all text content from a .docx file, paragraph by paragraph,\n",
    "    skipping empty lines, and join them using newlines.\n",
    "    \"\"\"\n",
    "    # Load the .docx file, loop through paragraphs, and extract text. Skip empty lines and return fully joined text.\n",
    "    document = docx.Document(docx_path)\n",
    "    paragraphs = []\n",
    "    for para in document.paragraphs:\n",
    "        text = para.text.strip()\n",
    "        if text:  \n",
    "            paragraphs.append(text)\n",
    "    return \"\\n\".join(paragraphs)\n",
    "\n",
    "\n"
   ]
  },
  {
   "cell_type": "code",
   "execution_count": 6,
   "metadata": {},
   "outputs": [],
   "source": [
    "\n",
    "def load_docs_with_metadata(raw_folder: str):\n",
    "    \"\"\"\n",
    "    Load each .docx file from the folder, extract its text content,\n",
    "    and return a list of LangChain Document objects with metadata.\n",
    "\n",
    "    Metadata includes the source URL derived from the filename.\n",
    "    \"\"\"\n",
    "    doc_url_dict = build_doc_url_dict(raw_folder)  #  Dictionary {full_docx_path: URL}\n",
    "    docs = []\n",
    "    \n",
    "    # Iterate through each document path and its associated URL and extract text content.\n",
    "    for doc_path, url in doc_url_dict.items():\n",
    "        text = extract_text_from_docx(doc_path)\n",
    "    # Skip empty lines and create a LangChain Document object with the text and metadata. \n",
    "        if text.strip():\n",
    "            docs.append(\n",
    "                Document(\n",
    "                    page_content=text,\n",
    "                    metadata={\"source\": url}\n",
    "                )\n",
    "            )\n",
    "    return docs\n"
   ]
  },
  {
   "cell_type": "code",
   "execution_count": 7,
   "metadata": {},
   "outputs": [
    {
     "name": "stdout",
     "output_type": "stream",
     "text": [
      "{'source': 'https://help.unhcr.org/denmark/about-unhcr-in-denmark/'}\n",
      "About UNHCR in Denmark\n",
      "https://help.unhcr.org/denmark/about-unhcr-in-denmark/\n",
      "All information and services provided by UNHCR and our partners are FREE OF CHARGE for temporary protection beneficiaries, asylum-seekers, refugees, beneficiaries of subsidiary protection and stateless persons.\n",
      "UNHCR works to protect the rights and support better futures for temporary protection beneficiaries, asylum-seekers, refugees and people at risk of statelessness worldwide.\n",
      "In Denmark, UNHCR supports the national authorities in executing their duties in line with international and European standards. UNHCR is not part of the asylum procedure in Denmark. The asylum procedure in Denmark is under the responsibility of the Danish Immigration Service under the Danish Ministry of Immigration and Integration.\n",
      "UNHCR in Denmark is part of UNHCR’s Representation for the Nordic and Baltic Countries (https://www.unhcr.org/neu/), based in Stockholm (Sweden).\n",
      "UNHCR’s Representation for the Nordic and Baltic Countries (https://www.unhcr.org/neu/)\n",
      "Contact us\n",
      "If you have not found the information that you were looking for on this ‘HELP’ website, please feel free to contact us via phone or e-mail:\n",
      "Phone: 📞 +46 10 10 12 800 (Mondays to Fridays, 10.00-12.00 Stockholm time)E-mail: 📧 swestprotection@unhcr.org (mailto:swestprotection@unhcr.org)\n",
      "swestprotection@unhcr.org (mailto:swestprotection@unhcr.org)\n",
      "If you don’t speak either English or Swedish:\n",
      "Although we can only answer calls in English or Swedish, you can send us an e-mail in your preferred language explaining your situation, and we will reply. Our reply will, in most cases, be in English, but we encourage you to use Google Translate if you have difficulties understanding it or send us another e-mail asking us to clarify it.\n",
      "For more information:\n",
      "VisitUNHCR’s webpage\n",
      "UNHCR’s webpage (https://www.unhcr.org/)\n",
      "<< Back to Denmark homepage (https://help.unhcr.org/denmark/)\n",
      ">> Select another country on our Help page (https://help.unhcr.org/)\n",
      "Back to Denmark homepage (https://help.unhcr.org/denmark/)\n",
      "Select another country on our Help page (https://help.unhcr.org/)\n"
     ]
    }
   ],
   "source": [
    "\n",
    "raw_folder = \"../data/raw\"\n",
    "\n",
    "docs = load_docs_with_metadata(raw_folder)\n",
    "print(docs[0].metadata)\n",
    "print(docs[0].page_content) "
   ]
  },
  {
   "cell_type": "markdown",
   "metadata": {},
   "source": [
    "### Step 3: Document Splitting and Vector Embeddings\n",
    "\n",
    "This step splits documents into chunks (child documents) and computes embeddings to be upserted into Pinecone."
   ]
  },
  {
   "cell_type": "code",
   "execution_count": 8,
   "metadata": {},
   "outputs": [],
   "source": [
    "# Parent-Child Chunking:\n",
    "\n",
    "# Initialize lists to store full documents (parents) and smaller chunks (children)\n",
    "parent_docs = []\n",
    "child_docs = []\n",
    "\n",
    "#  Define a text splitter to chunk large texts into manageable pieces with overlap for context preservation\n",
    "text_splitter = RecursiveCharacterTextSplitter(chunk_size=500, chunk_overlap=50)\n",
    "\n",
    "# Loop through each full document\n",
    "for doc in docs:\n",
    "    # Save the full document (parent)\n",
    "    parent_docs.append(doc)\n",
    "    \n",
    "    # Split the document's content into smaller overlapping chunks\n",
    "    splitted_texts = text_splitter.split_text(doc.page_content)\n",
    "    \n",
    "    #  For each chunk, create a LangChain Document and reference the original document's (parent doc) metadata\n",
    "    for chunk_text in splitted_texts:\n",
    "        child_docs.append(\n",
    "            Document(\n",
    "                page_content=chunk_text,\n",
    "                metadata={\n",
    "                    \"parent_source\": doc.metadata[\"source\"], \n",
    "                }\n",
    "            )\n",
    "        )"
   ]
  },
  {
   "cell_type": "code",
   "execution_count": 9,
   "metadata": {},
   "outputs": [
    {
     "name": "stderr",
     "output_type": "stream",
     "text": [
      "c:\\Users\\eloe23ac\\Documents\\RAG-Model\\rag_model_env\\Lib\\site-packages\\huggingface_hub\\file_download.py:797: FutureWarning: `resume_download` is deprecated and will be removed in version 1.0.0. Downloads always resume when possible. If you want to force a new download, use `force_download=True`.\n",
      "  warnings.warn(\n"
     ]
    }
   ],
   "source": [
    "# Initialize Embedding model\n",
    "\"\"\"\n",
    "Here the multilingual embedding model is initialized from Hugging Face for generating dense vector\n",
    "representations of text chunks. This model will be used to embed all the child documents\n",
    "before indexing them in a vector store (e.g., Pinecone).\n",
    "\n",
    "We're using the 'intfloat/multilingual-e5-base' model, which is:\n",
    "- Open-source and locally loadable via LangChain (no external API required)\n",
    "- Designed for sentence-level embeddings in multiple languages\n",
    "- Well-suited for low-resource languages, making it appropriate for UNHCR's global scope\n",
    "\n",
    "By using HuggingFaceEmbeddings (rather than hosted APIs like OpenAI), we ensure:\n",
    "- Full control over performance and deployment\n",
    "- Scalability in secure, cost-effective environments\n",
    "- Easy model replacement or fine-tuning for specific regions/languages\n",
    "\"\"\"\n",
    "embedding_model = HuggingFaceEmbeddings(model_name=\"intfloat/multilingual-e5-base\")\n",
    "\n"
   ]
  },
  {
   "cell_type": "code",
   "execution_count": 10,
   "metadata": {},
   "outputs": [],
   "source": [
    "# Generate embeddings for all child document chunks using the multilingual model (E5 multilingual base)\n",
    "texts = [child.page_content for child in child_docs]\n",
    "vectors = embedding_model.embed_documents(texts)"
   ]
  },
  {
   "cell_type": "markdown",
   "metadata": {},
   "source": [
    "### Step 4: Pinecone Index Setup\n",
    "This step initializes Pinecone, creates the index (if needed), and upserts the vector embeddings.\n",
    "\n"
   ]
  },
  {
   "cell_type": "code",
   "execution_count": 11,
   "metadata": {},
   "outputs": [],
   "source": [
    "from pinecone import Pinecone\n",
    "\"\"\"\n",
    "Initialize Pinecone using the official client (not LangChain wrapper).\n",
    "We connect directly via API key and specify the cloud region. This gives us\n",
    "full control over index management (e.g., creating, checking, upserting).\n",
    "\n",
    "We're not using LangChain's Pinecone wrapper here due to dependency issues.\n",
    "This approach is more flexible and can be maintained independently of LangChain versions.\n",
    "\"\"\"\n",
    "# 1. Initialize Pinecone client using direct API key and region which are stored in environment for security.  \n",
    "pc = Pinecone(\n",
    "    api_key=os.getenv(\"PINECONE_API_KEY\"),\n",
    "    environment=\"us-east-1-aws\",\n",
    "    region=\"us-east-1\"\n",
    ")\n",
    "# 2. Define the name of the vector index to use. If it does not exist, create it. \n",
    "index_name = \"unhcr-chatbot\"\n",
    "\n",
    "if not pc.has_index(index_name):\n",
    "    pc.create_index(index_name, dimension=len(vectors[0]))\n",
    "\n",
    "# 3. Connect to the existing or newly created index\n",
    "index = pc.Index(index_name)\n"
   ]
  },
  {
   "cell_type": "code",
   "execution_count": 12,
   "metadata": {},
   "outputs": [
    {
     "data": {
      "text/plain": [
       "{'upserted_count': 333}"
      ]
     },
     "execution_count": 12,
     "metadata": {},
     "output_type": "execute_result"
    }
   ],
   "source": [
    "\"\"\"\n",
    "Prepare a list of (id, vector, metadata) tuples for each embedded child chunk.\n",
    "\n",
    "Each entry is uniquely identified (e.g., \"child_0\"), and includes:\n",
    "- The vector: high-dimensional embedding from Step 3\n",
    "- The metadata: source URL and full chunk text for later reference\n",
    "\n",
    "These are then uploaded (upserted) into the specified Pinecone namespace.\n",
    "\"\"\"\n",
    "\n",
    "to_upsert = []\n",
    "\n",
    "# Loop through each embedded child document and pair it with metadata\n",
    "for i, child_doc in enumerate(child_docs):\n",
    "    to_upsert.append((\n",
    "        f\"child_{i}\",                                          # Unique ID for the chunk\n",
    "        vectors[i],                                            # Embedding vector for the chunk\n",
    "        {\n",
    "        \"parent_source\": child_doc.metadata[\"parent_source\"],  # Trace back to full doc\n",
    "        \"text\": child_doc.page_content}                        # Store the raw chunk text for retrieval                   \n",
    "    ))\n",
    "\n",
    "# Upload vectors and metadata to Pinecone under a namespace \"text_chunks\"\n",
    "index.upsert(to_upsert, namespace=\"text_chunks\")"
   ]
  },
  {
   "cell_type": "code",
   "execution_count": null,
   "metadata": {},
   "outputs": [],
   "source": [
    "# Delete all vectors from the index\n",
    "#index.delete(delete_all=True)\n",
    "\n",
    "#print(\"All vectors deleted from Pinecone index\")"
   ]
  },
  {
   "cell_type": "markdown",
   "metadata": {},
   "source": [
    "### Step 5: Retrieval and Reranking\n",
    "This step initializes the CrossEncoder for reranking, embedds the query, retrives top k results from Pinecone, reranks the top k with reranking and returns those chunks. "
   ]
  },
  {
   "cell_type": "code",
   "execution_count": 13,
   "metadata": {},
   "outputs": [],
   "source": [
    "from sentence_transformers import CrossEncoder\n",
    "\n",
    "\"\"\"\n",
    "Initialize the reranker using a local CrossEncoder model.\n",
    "\n",
    "We're using BAAI's bge-reranker-base model, loaded via sentence-transformers.\n",
    "This model takes pairs of (query, document) and assigns a relevance score.\n",
    "\n",
    "This approach is:\n",
    "- Fully local (no API calls)\n",
    "- Fast when using a GPU (device=0)\n",
    "- Swappable with other reranker models if needed (Scalable solution)\n",
    "\"\"\"\n",
    "\n",
    "reranker = CrossEncoder(\"BAAI/bge-reranker-base\", device=0)\n"
   ]
  },
  {
   "cell_type": "code",
   "execution_count": 15,
   "metadata": {},
   "outputs": [],
   "source": [
    "def store_retrieve_and_rerank(query, top_k_retrieve=5, top_k_rerank=3):\n",
    "    \"\"\"\n",
    "    Takes a raw user query (no reformulation) and performs:\n",
    "    - Dense embedding of the query,\n",
    "    - Top-k semantic retrieval from Pinecone,\n",
    "    - Reranking using a local CrossEncoder model,\n",
    "    - Returns the top reranked results (content + source URL).\n",
    "\n",
    "    This version of the pipeline skips query reformulation,\n",
    "    based on evaluation results showing better performance without it.\n",
    "    \"\"\"\n",
    "    # Embed the raw query using the multilingual embedding model\n",
    "    query_vector = embedding_model.embed_query(query)\n",
    "\n",
    "    # Retrieve top-k most relevant chunks from Pinecone based on vector similarity\n",
    "    results = index.query(\n",
    "        vector=query_vector,\n",
    "        top_k=top_k_retrieve,  \n",
    "        includeMetadata=True,\n",
    "        namespace=\"text_chunks\"\n",
    "    )\n",
    "\n",
    "    # Collect retrieved documents with their content and metadata\n",
    "    retrieved_docs = []\n",
    "    for match in results[\"matches\"]:\n",
    "        text_content = match[\"metadata\"].get(\"text\", \"\").strip()\n",
    "        source_url = match[\"metadata\"].get(\"parent_source\", \"\").strip()\n",
    "        if text_content:\n",
    "            retrieved_docs.append({\n",
    "                \"id\": match[\"id\"],\n",
    "                \"score\": match[\"score\"],\n",
    "                \"content\": text_content,\n",
    "                \"source\": source_url\n",
    "            })\n",
    "    # Handle empty results\n",
    "    if not retrieved_docs:\n",
    "        print(\"\\n No documents retrieved from Pinecone! Try a different query.\")\n",
    "        return []\n",
    "    # Rerank retrieved documents using a local CrossEncoder model\n",
    "    query_doc_pairs = [(query, doc[\"content\"]) for doc in retrieved_docs]\n",
    "    rerank_scores = reranker.predict(query_doc_pairs)\n",
    "    # Attach rerank scores to each document\n",
    "    for i, doc in enumerate(retrieved_docs):\n",
    "        doc[\"rerank_score\"] = rerank_scores[i]\n",
    "    # Sort by rerank score and return top-k\n",
    "    reranked_docs = sorted(retrieved_docs, key=lambda x: x[\"rerank_score\"], reverse=True)[:top_k_rerank]\n",
    "    return reranked_docs\n"
   ]
  },
  {
   "cell_type": "markdown",
   "metadata": {},
   "source": [
    "### Step 6: Answer Generation with Phi-3.5 Mini\n",
    "\n",
    "This step loads the Phi-3.5 model, creates the text-generation pipeline, and defines the final answer generation function."
   ]
  },
  {
   "cell_type": "code",
   "execution_count": 16,
   "metadata": {},
   "outputs": [
    {
     "name": "stderr",
     "output_type": "stream",
     "text": [
      "Special tokens have been added in the vocabulary, make sure the associated word embeddings are fine-tuned or trained.\n",
      "`flash-attention` package not found, consider installing for better performance: No module named 'flash_attn'.\n",
      "Current `flash-attention` does not support `window_size`. Either upgrade or use `attn_implementation='eager'`.\n",
      "Loading checkpoint shards: 100%|██████████| 2/2 [00:09<00:00,  4.51s/it]"
     ]
    },
    {
     "name": "stdout",
     "output_type": "stream",
     "text": [
      "Phi-3.5 Mini Model Loaded Successfully!\n"
     ]
    },
    {
     "name": "stderr",
     "output_type": "stream",
     "text": [
      "\n"
     ]
    }
   ],
   "source": [
    "from transformers import AutoModelForCausalLM, AutoTokenizer\n",
    "import torch\n",
    "\n",
    "# Clear GPU memory (recommended if multiple large models are being loaded)\n",
    "if torch.cuda.is_available():\n",
    "    torch.cuda.empty_cache()\n",
    "\n",
    "\"\"\"\n",
    "Load the Phi-3.5 Mini Instruct model and tokenizer from Hugging Face locally.\n",
    "This is a lightweight, open-source LLM designed for instruction-following.\n",
    "\n",
    "Benefits for UNHCR:\n",
    "- Local and offline capable\n",
    "- Lightweight (efficient on consumer GPUs)\n",
    "- Safe, cost-effective alternative to OpenAI/Anthropic APIs\n",
    "\"\"\"\n",
    "model_name = \"microsoft/Phi-3.5-mini-instruct\"\n",
    "tokenizer = AutoTokenizer.from_pretrained(model_name, trust_remote_code=True)\n",
    "model = AutoModelForCausalLM.from_pretrained(\n",
    "    model_name,\n",
    "    trust_remote_code=True,\n",
    "    torch_dtype=torch.float16,\n",
    "    device_map=\"auto\",\n",
    "    max_memory={0: \"30GB\"},\n",
    "    use_cache=True\n",
    ")\n",
    "\n",
    "# Wrap the model in a text-generation pipeline with decoding configs\n",
    "phi_pipeline = pipeline(\n",
    "    \"text-generation\",\n",
    "    model=model,\n",
    "    tokenizer=tokenizer,\n",
    "    max_new_tokens=200,\n",
    "    temperature=0.7,\n",
    "    do_sample=True,\n",
    "    eos_token_id=tokenizer.eos_token_id,\n",
    "    #return_full_text=False\n",
    ")\n",
    "# Convert to LangChain-compatible wrapper\n",
    "final_llm = HuggingFacePipeline(pipeline=phi_pipeline)\n",
    "print(\"Phi-3.5 Mini Model Loaded Successfully!\")\n",
    "\n"
   ]
  },
  {
   "cell_type": "code",
   "execution_count": 17,
   "metadata": {},
   "outputs": [],
   "source": [
    "# Structured prompt with system message, context, user input, and strict generation rules\n",
    "# Clear prompt structure ensures consistency and limits hallucinations, context injection enables real-time grounded responses.\n",
    "# Templates are reusable and easy to adapt for other regions or languages (scalable solution). \n",
    "\n",
    "prompt_template = prompt_template = \"\"\"SYSTEM: You are a chatbot specializing in UNHCR and refugee services in Denmark. \n",
    "Answer the user’s question concisely and directly using the provided CONTEXT. \n",
    "If the question is not related to UNHCR or refugee services, respond with: \"I'm sorry, I can only answer questions related to UNHCR and refugee services in Denmark.\"\n",
    "If the answer is incomplete (e.g., if a question asks for detailed steps, like \"What happens after I apply for asylum?\"), provide as many relevant details as possible.\n",
    "At the end of your answer, if an answer is available, add a note: \"For additional information, please visit: {sources}\"\n",
    "\n",
    "CONTEXT: {context}\n",
    "\n",
    "USER QUERY: {query}\n",
    "\n",
    "INSTRUCTIONS:\n",
    "- Answer concisely in 2-3 sentences.\n",
    "- Include detailed steps if applicable.\n",
    "- Do NOT generate follow-up questions.\n",
    "- Do NOT continue generating after your answer.\n",
    "- If unsure or off-topic, reply with: \"I'm sorry, I can only answer questions related to UNHCR and refugee services in Denmark.\"\n",
    "\n",
    "FINAL RESPONSE:\n",
    "\"\"\"\n",
    "\n",
    "\n"
   ]
  },
  {
   "cell_type": "code",
   "execution_count": 18,
   "metadata": {},
   "outputs": [],
   "source": [
    "def generate_answer_without_reformulation(user_query):\n",
    "    \"\"\"\n",
    "    Generates an answer using the original (unmodified) query.\n",
    "    - Retrieves and reranks relevant document chunks.\n",
    "    - Constructs a context-aware prompt.\n",
    "    - Runs the prompt through Phi-3.5 Mini for generation.\n",
    "    - Returns a clean, final answer.\n",
    "    \"\"\"\n",
    "    # Use the original query as is\n",
    "    final_query = user_query.strip()\n",
    "\n",
    "    # Retrieve and rerank using the original query directly\n",
    "    reranked_docs = store_retrieve_and_rerank(final_query, top_k_retrieve=5, top_k_rerank=3)\n",
    "    \n",
    "    # Extract context from the top reranked documents\n",
    "    context = \"\\n\\n\".join([doc[\"content\"][:500] for doc in reranked_docs])\n",
    "    \n",
    "    # Extract unique source URLs for the final note\n",
    "    sources = list({doc.get(\"source\", \"\") for doc in reranked_docs if doc.get(\"source\", \"\")})\n",
    "    sources_str = \", \".join(sources) if sources else \"N/A\"\n",
    "    \n",
    "    # Format the prompt using the original query\n",
    "    formatted_prompt = prompt_template.format(context=context, query=final_query, sources=sources_str)\n",
    "    \n",
    "    # Run the Phi-3.5 model with the formatted prompt\n",
    "    response = final_llm(formatted_prompt)\n",
    "    \n",
    "    if isinstance(response, list) and len(response) > 0:\n",
    "        response_text = response[0][\"generated_text\"] if isinstance(response[0], dict) else response[0]\n",
    "    else:\n",
    "        response_text = response.strip() if isinstance(response, str) else str(response)\n",
    "    \n",
    "    # Return only the first paragraph as the final answer\n",
    "    clean_answer = response_text.split(\"\\n\\n\")[0].strip()\n",
    "    return clean_answer\n",
    "\n",
    "\n"
   ]
  },
  {
   "cell_type": "markdown",
   "metadata": {},
   "source": [
    "### Step 7: Main Execution & Evaluation \n",
    "This final section tests the full pipeline with sample queries and evaluates metrics. "
   ]
  },
  {
   "cell_type": "markdown",
   "metadata": {},
   "source": [
    "#### 7.1 Query Time Evaluation"
   ]
  },
  {
   "cell_type": "code",
   "execution_count": 19,
   "metadata": {},
   "outputs": [
    {
     "name": "stderr",
     "output_type": "stream",
     "text": [
      "You are not running the flash-attention implementation, expect numerical differences.\n"
     ]
    },
    {
     "name": "stdout",
     "output_type": "stream",
     "text": [
      "\n",
      "Answer: UNHCR in Denmark supports national authorities in executing their duties according to international and European standards. It is not involved in the actual asylum procedure, which is managed by the Danish Immigration Service. UNHCR also operates within the Nordic and Baltic Representation based in Stockholm to coordinate efforts across the region. For additional information, please visit: https://help.unhcr.org/denmark/about-unhcr-in-denmark/ and https://help.unhcr.org/denmark/uk/about-unhcr-in-denmark/.\n"
     ]
    }
   ],
   "source": [
    "# Run a single sample query through the full RAG pipeline (no reformulation)\n",
    "query = \"What does UNHCR do in Denmark?\"\n",
    "answer = generate_answer_without_reformulation(query)\n",
    "print(\"\\nAnswer:\", answer)\n",
    "\n",
    "\n"
   ]
  },
  {
   "cell_type": "code",
   "execution_count": 20,
   "metadata": {},
   "outputs": [
    {
     "name": "stdout",
     "output_type": "stream",
     "text": [
      "Testing query: What does UNHCR do in Denmark?\n",
      "Embedding time: 0.0150s\n",
      "Pinecone query time: 0.8070s\n",
      "Reranker time: 0.0220s\n",
      "Generation time: 17.6411s\n",
      "Total query time: 18.4861s\n",
      "\n",
      "Testing query: How can I apply for family reunification?\n",
      "Embedding time: 0.0150s\n",
      "Pinecone query time: 0.1110s\n",
      "Reranker time: 0.0300s\n",
      "Generation time: 11.6950s\n",
      "Total query time: 11.8520s\n",
      "\n",
      "Testing query: How do I apply for asylum in Denmark?\n",
      "Embedding time: 0.0140s\n",
      "Pinecone query time: 0.1110s\n",
      "Reranker time: 0.0220s\n",
      "Generation time: 13.9691s\n",
      "Total query time: 14.1170s\n",
      "\n",
      "Testing query: Can I appeal a negative asylum decision?\n",
      "Embedding time: 0.0210s\n",
      "Pinecone query time: 0.1090s\n",
      "Reranker time: 0.0320s\n",
      "Generation time: 9.5130s\n",
      "Total query time: 9.6750s\n",
      "\n",
      "Testing query: How can I get a lawyer or interpreter for my asylum case?\n",
      "Embedding time: 0.0200s\n",
      "Pinecone query time: 0.3250s\n",
      "Reranker time: 0.0280s\n",
      "Generation time: 18.1151s\n",
      "Total query time: 18.4901s\n",
      "\n",
      "Testing query: Wat duz UNHCR du in danmrk?\n",
      "Embedding time: 0.0240s\n",
      "Pinecone query time: 0.1090s\n",
      "Reranker time: 0.0380s\n",
      "Generation time: 11.8340s\n",
      "Total query time: 12.0050s\n",
      "\n",
      "Testing query: How kan I apley for famly reunificashun?\n",
      "Embedding time: 0.0180s\n",
      "Pinecone query time: 0.1090s\n",
      "Reranker time: 0.0350s\n",
      "Generation time: 11.2170s\n",
      "Total query time: 11.3790s\n",
      "\n",
      "Testing query: How du I apley for asylm in danmrk?\n",
      "Embedding time: 0.0190s\n",
      "Pinecone query time: 0.1090s\n",
      "Reranker time: 0.0230s\n",
      "Generation time: 14.1561s\n",
      "Total query time: 14.3071s\n",
      "\n",
      "Average Embedding time: 0.0182s\n",
      "Average Pinecone query time: 0.2238s\n",
      "Average Reranker time: 0.0288s\n",
      "Average Generation time: 13.5175s\n",
      "Average Total query time: 13.7889s\n"
     ]
    }
   ],
   "source": [
    "import time\n",
    "\n",
    "\"\"\"\n",
    "Evaluate response time across multiple components:\n",
    "- Embedding\n",
    "- Retrieval from Pinecone\n",
    "- Reranking\n",
    "- Generation (LLM response)\n",
    "\n",
    "Tested with both normal and misspelled (fuzzy) queries to evaluate robustness.\n",
    "\"\"\"\n",
    "\n",
    "# Define the list of test queries\n",
    "queries = [\n",
    "    \"What does UNHCR do in Denmark?\",\n",
    "    \"How can I apply for family reunification?\",\n",
    "    \"How do I apply for asylum in Denmark?\",\n",
    "    \"Can I appeal a negative asylum decision?\",\n",
    "    \"How can I get a lawyer or interpreter for my asylum case?\",\n",
    "    \"Wat duz UNHCR du in danmrk?\",\n",
    "    \"How kan I apley for famly reunificashun?\",\n",
    "    \"How du I apley for asylm in danmrk?\"\n",
    "]\n",
    "\n",
    "# Lists to store times for each component\n",
    "embedding_times = []\n",
    "pinecone_times = []\n",
    "reranker_times = []\n",
    "generation_times = []\n",
    "total_times = []\n",
    "\n",
    "# Loop over each query and record timings for each component\n",
    "for query in queries:\n",
    "    print(\"Testing query:\", query)\n",
    "    \n",
    "    # Start total timing for the query\n",
    "    start_total = time.time()\n",
    "    \n",
    "    # 1. Time the query embedding\n",
    "    start = time.time()\n",
    "    query_vector = embedding_model.embed_query(query)\n",
    "    embedding_time = time.time() - start\n",
    "    embedding_times.append(embedding_time)\n",
    "    print(\"Embedding time: {:.4f}s\".format(embedding_time))\n",
    "    \n",
    "    # 2. Time the Pinecone query\n",
    "    start = time.time()\n",
    "    results = index.query(\n",
    "        vector=query_vector,\n",
    "        top_k=5,\n",
    "        includeMetadata=True,\n",
    "        namespace=\"text_chunks\"\n",
    "    )\n",
    "    pinecone_time = time.time() - start\n",
    "    pinecone_times.append(pinecone_time)\n",
    "    print(\"Pinecone query time: {:.4f}s\".format(pinecone_time))\n",
    "    \n",
    "    # 3. Build retrieved_docs from results\n",
    "    retrieved_docs = []\n",
    "    for match in results[\"matches\"]:\n",
    "        text_content = match[\"metadata\"].get(\"text\", \"\").strip()\n",
    "        source = match[\"metadata\"].get(\"parent_source\", \"\").strip()\n",
    "        if text_content:\n",
    "            retrieved_docs.append({\n",
    "                \"id\": match[\"id\"],\n",
    "                \"score\": match[\"score\"],\n",
    "                \"content\": text_content,\n",
    "                \"source\": source\n",
    "            })\n",
    "    \n",
    "    # 4. Time the reranking step\n",
    "    start = time.time()\n",
    "    query_doc_pairs = [(query, doc[\"content\"]) for doc in retrieved_docs]\n",
    "    rerank_scores = reranker.predict(query_doc_pairs)\n",
    "    reranker_time = time.time() - start\n",
    "    reranker_times.append(reranker_time)\n",
    "    print(\"Reranker time: {:.4f}s\".format(reranker_time))\n",
    "    \n",
    "    # 5. Prepare the prompt\n",
    "    sources = list({doc.get(\"source\", \"\") for doc in retrieved_docs if doc.get(\"source\", \"\")})\n",
    "    sources_str = \", \".join(sources) if sources else \"N/A\"\n",
    "    context = \"\\n\\n\".join([doc[\"content\"][:500] for doc in retrieved_docs])\n",
    "    formatted_prompt = prompt_template.format(context=context, query=query, sources=sources_str)\n",
    "    \n",
    "    # 6. Time the generation step\n",
    "    start = time.time()\n",
    "    response = final_llm(formatted_prompt)\n",
    "    generation_time = time.time() - start\n",
    "    generation_times.append(generation_time)\n",
    "    print(\"Generation time: {:.4f}s\".format(generation_time))\n",
    "    \n",
    "    # End total timing for the query\n",
    "    total_time = time.time() - start_total\n",
    "    total_times.append(total_time)\n",
    "    print(\"Total query time: {:.4f}s\\n\".format(total_time))\n",
    "\n",
    "# Calculate and print average times for each component and total time\n",
    "avg_embedding = sum(embedding_times) / len(embedding_times)\n",
    "avg_pinecone = sum(pinecone_times) / len(pinecone_times)\n",
    "avg_reranker = sum(reranker_times) / len(reranker_times)\n",
    "avg_generation = sum(generation_times) / len(generation_times)\n",
    "avg_total = sum(total_times) / len(total_times)\n",
    "\n",
    "print(\"Average Embedding time: {:.4f}s\".format(avg_embedding))\n",
    "print(\"Average Pinecone query time: {:.4f}s\".format(avg_pinecone))\n",
    "print(\"Average Reranker time: {:.4f}s\".format(avg_reranker))\n",
    "print(\"Average Generation time: {:.4f}s\".format(avg_generation))\n",
    "print(\"Average Total query time: {:.4f}s\".format(avg_total))"
   ]
  },
  {
   "cell_type": "code",
   "execution_count": null,
   "metadata": {},
   "outputs": [],
   "source": [
    "#!pip install matplotlib"
   ]
  },
  {
   "cell_type": "code",
   "execution_count": 21,
   "metadata": {},
   "outputs": [
    {
     "data": {
      "image/png": "[encoded data removed]",
      "text/plain": [
       "<Figure size 1000x600 with 1 Axes>"
      ]
     },
     "metadata": {},
     "output_type": "display_data"
    }
   ],
   "source": [
    "import matplotlib.pyplot as plt\n",
    "import numpy as np\n",
    "\n",
    "\"\"\"\n",
    "Generate a bar chart showing average time spent per RAG component, plus a total average time label.\n",
    "\n",
    "Helps identify performance for optimization. This is compared with the previous version of the pipeline, \n",
    "which included query refromulation.\n",
    "\"\"\"\n",
    "\n",
    "# Prepare data\n",
    "components = ['Embedding', 'Pinecone', 'Reranker', 'Generation']\n",
    "times = [avg_embedding, avg_pinecone, avg_reranker, avg_generation]\n",
    "\n",
    "# Create bar plot\n",
    "plt.figure(figsize=(10, 6))\n",
    "bars = plt.bar(components, times)\n",
    "\n",
    "# Customize the plot\n",
    "plt.title('Average Processing Time by Component', pad=20)\n",
    "plt.ylabel('Time (seconds)')\n",
    "plt.grid(axis='y', linestyle='--', alpha=0.7)\n",
    "\n",
    "# Add value labels on top of each bar\n",
    "for bar in bars:\n",
    "    height = bar.get_height()\n",
    "    plt.text(bar.get_x() + bar.get_width()/2., height,\n",
    "             f'{height:.3f}s',\n",
    "             ha='center', va='bottom')\n",
    "\n",
    "# Rotate x-axis labels for better readability\n",
    "plt.xticks(rotation=0)\n",
    "\n",
    "# Add total time as text\n",
    "plt.text(0.5, 1.1, f'Total Average Time: {avg_total:.3f}s',\n",
    "         ha='center', transform=plt.gca().transAxes,\n",
    "         bbox=dict(facecolor='white', alpha=0.8, edgecolor='none'))\n",
    "\n",
    "plt.tight_layout()\n",
    "plt.show()\n",
    "\n"
   ]
  },
  {
   "cell_type": "markdown",
   "metadata": {},
   "source": [
    "#### 7.2 Evaluation Metrics\n",
    "\n",
    "In this section, we assess the performance of our RAG model's query generation capabilities. We'll analyze a comprehensive test set consisting of 40 diverse user queries and their corresponding expected responses, which have been documented in our evaluation spreadsheet. This structured approach allows us to:\n",
    "\n",
    "- Measure the accuracy of generated responses\n",
    "- Compare model outputs against human-verified answers\n",
    "- Identify potential areas for improvement\n",
    "- Evaluate the model's understanding across different query types"
   ]
  },
  {
   "cell_type": "code",
   "execution_count": null,
   "metadata": {},
   "outputs": [],
   "source": [
    "#!pip install rouge\n",
    "#!pip install seaborn\n",
    "#!pip install openpyxl"
   ]
  },
  {
   "cell_type": "code",
   "execution_count": null,
   "metadata": {},
   "outputs": [
    {
     "data": {
      "text/html": [
       "<div>\n",
       "<style scoped>\n",
       "    .dataframe tbody tr th:only-of-type {\n",
       "        vertical-align: middle;\n",
       "    }\n",
       "\n",
       "    .dataframe tbody tr th {\n",
       "        vertical-align: top;\n",
       "    }\n",
       "\n",
       "    .dataframe thead th {\n",
       "        text-align: right;\n",
       "    }\n",
       "</style>\n",
       "<table border=\"1\" class=\"dataframe\">\n",
       "  <thead>\n",
       "    <tr style=\"text-align: right;\">\n",
       "      <th></th>\n",
       "      <th>Primary Key</th>\n",
       "      <th>Query Type</th>\n",
       "      <th>Query</th>\n",
       "      <th>Expected Answer</th>\n",
       "    </tr>\n",
       "  </thead>\n",
       "  <tbody>\n",
       "    <tr>\n",
       "      <th>0</th>\n",
       "      <td>Q1</td>\n",
       "      <td>Related to UNHCR</td>\n",
       "      <td>What does UNHCR do in Denmark?</td>\n",
       "      <td>UNHCR in Denmark supports the government in ma...</td>\n",
       "    </tr>\n",
       "    <tr>\n",
       "      <th>1</th>\n",
       "      <td>Q2</td>\n",
       "      <td>Related to UNHCR</td>\n",
       "      <td>How can I apply for family reunification?</td>\n",
       "      <td>To apply for family reunification in Denmark, ...</td>\n",
       "    </tr>\n",
       "    <tr>\n",
       "      <th>2</th>\n",
       "      <td>Q3</td>\n",
       "      <td>Related to UNHCR</td>\n",
       "      <td>How do I apply for asylum in Denmark?</td>\n",
       "      <td>You must apply for asylum at a police station ...</td>\n",
       "    </tr>\n",
       "    <tr>\n",
       "      <th>3</th>\n",
       "      <td>Q4</td>\n",
       "      <td>Related to UNHCR</td>\n",
       "      <td>Can I appeal a negative asylum decision?</td>\n",
       "      <td>If your asylum application is denied, an appea...</td>\n",
       "    </tr>\n",
       "    <tr>\n",
       "      <th>4</th>\n",
       "      <td>Q5</td>\n",
       "      <td>Related to UNHCR</td>\n",
       "      <td>How can I get a lawyer or interpreter for my a...</td>\n",
       "      <td>You are entitled to a free lawyer during the a...</td>\n",
       "    </tr>\n",
       "  </tbody>\n",
       "</table>\n",
       "</div>"
      ],
      "text/plain": [
       "  Primary Key        Query Type  \\\n",
       "0          Q1  Related to UNHCR   \n",
       "1          Q2  Related to UNHCR   \n",
       "2          Q3  Related to UNHCR   \n",
       "3          Q4  Related to UNHCR   \n",
       "4          Q5  Related to UNHCR   \n",
       "\n",
       "                                               Query  \\\n",
       "0                     What does UNHCR do in Denmark?   \n",
       "1          How can I apply for family reunification?   \n",
       "2              How do I apply for asylum in Denmark?   \n",
       "3           Can I appeal a negative asylum decision?   \n",
       "4  How can I get a lawyer or interpreter for my a...   \n",
       "\n",
       "                                     Expected Answer  \n",
       "0  UNHCR in Denmark supports the government in ma...  \n",
       "1  To apply for family reunification in Denmark, ...  \n",
       "2  You must apply for asylum at a police station ...  \n",
       "3  If your asylum application is denied, an appea...  \n",
       "4  You are entitled to a free lawyer during the a...  "
      ]
     },
     "execution_count": 30,
     "metadata": {},
     "output_type": "execute_result"
    }
   ],
   "source": [
    "import pandas as pd\n",
    "\n",
    "# Read the evalution Excel file into a DataFrame\n",
    "df = pd.read_excel(\"../Evaluation/Component Evaluation For Python.xlsx\")\n",
    "\n",
    "df.head()"
   ]
  },
  {
   "cell_type": "code",
   "execution_count": null,
   "metadata": {},
   "outputs": [
    {
     "name": "stderr",
     "output_type": "stream",
     "text": [
      "[nltk_data] Downloading package punkt to\n",
      "[nltk_data]     C:\\Users\\eloe23ac\\AppData\\Roaming\\nltk_data...\n",
      "[nltk_data]   Package punkt is already up-to-date!\n",
      "[nltk_data] Downloading package wordnet to\n",
      "[nltk_data]     C:\\Users\\eloe23ac\\AppData\\Roaming\\nltk_data...\n",
      "[nltk_data] Downloading package omw-1.4 to\n",
      "[nltk_data]     C:\\Users\\eloe23ac\\AppData\\Roaming\\nltk_data...\n",
      "You seem to be using the pipelines sequentially on GPU. In order to maximize efficiency please use a dataset\n"
     ]
    }
   ],
   "source": [
    "import time\n",
    "import nltk\n",
    "from nltk.tokenize import word_tokenize\n",
    "from nltk.translate.bleu_score import sentence_bleu, SmoothingFunction\n",
    "from nltk.translate.meteor_score import meteor_score\n",
    "from rouge import Rouge\n",
    "\n",
    "\"\"\"\n",
    "Compare generated answers to human-written references using:\n",
    "- BLEU: token-level precision\n",
    "- ROUGE-L: sequence overlap (recall)\n",
    "- METEOR: harmonic match with synonyms and order\n",
    "\n",
    "Reads queries + expected answers from an evaluation spreadsheet.\n",
    "Outputs updated results with scores and response times.\n",
    "\"\"\"\n",
    "\n",
    "# Download required NLTK data\n",
    "nltk.download('punkt')\n",
    "nltk.download('wordnet')\n",
    "nltk.download('omw-1.4')  # Open Multilingual WordNet\n",
    "\n",
    "# Initialize ROUGE and a smoothing function for BLEU\n",
    "rouge = Rouge()\n",
    "smoothie = SmoothingFunction().method4\n",
    "\n",
    "# Lists to store new data\n",
    "generated_answers = []\n",
    "bleu_scores = []\n",
    "rouge_scores = []\n",
    "meteor_scores = []\n",
    "total_times = []  # New list for total query time\n",
    "\n",
    "# Iterate over each row\n",
    "for idx, row in df.iterrows():\n",
    "    query = row[\"Query\"]\n",
    "    expected_answer = row[\"Expected Answer\"]\n",
    "    \n",
    "    # Start timer for total time for this query\n",
    "    start_query_time = time.time()\n",
    "    \n",
    "    # Generate answer\n",
    "    predicted_answer = generate_answer_without_reformulation(query)\n",
    "    \n",
    "    # Stop timer and calculate total time\n",
    "    total_time_for_query = time.time() - start_query_time\n",
    "    \n",
    "    # Compute metrics \n",
    "    if isinstance(expected_answer, str) and expected_answer.strip():\n",
    "        # Tokenize both texts\n",
    "        reference_tokens = word_tokenize(expected_answer)\n",
    "        candidate_tokens = word_tokenize(predicted_answer)\n",
    "        \n",
    "        # BLEU\n",
    "        bleu_score_val = sentence_bleu([reference_tokens], candidate_tokens, smoothing_function=smoothie)\n",
    "        \n",
    "        # METEOR (using tokenized inputs)\n",
    "        meteor_score_val = meteor_score([reference_tokens], candidate_tokens)\n",
    "        \n",
    "        # ROUGE (uses raw text)\n",
    "        rouge_score_dict = rouge.get_scores(predicted_answer, expected_answer)[0]\n",
    "        rouge_l_f1 = rouge_score_dict[\"rouge-l\"][\"f\"]\n",
    "    else:\n",
    "        bleu_score_val = 0\n",
    "        meteor_score_val = 0\n",
    "        rouge_l_f1 = 0\n",
    "    \n",
    "    # Append results\n",
    "    generated_answers.append(predicted_answer)\n",
    "    bleu_scores.append(bleu_score_val)\n",
    "    rouge_scores.append(rouge_l_f1)\n",
    "    meteor_scores.append(meteor_score_val)\n",
    "    total_times.append(total_time_for_query)\n",
    "\n",
    "# Create new columns\n",
    "df[\"Generated Answers\"] = generated_answers\n",
    "df[\"BLEU\"] = bleu_scores\n",
    "df[\"ROUGE\"] = rouge_scores\n",
    "df[\"METEOR\"] = meteor_scores\n",
    "df[\"Total Time\"] = total_times"
   ]
  },
  {
   "cell_type": "code",
   "execution_count": null,
   "metadata": {},
   "outputs": [
    {
     "name": "stdout",
     "output_type": "stream",
     "text": [
      "Done! Updated file saved to: ../Evaluation/Component Evaluation with Scores 02.xlsx\n"
     ]
    }
   ],
   "source": [
    "# Save evaluation results to Excel file for documentation and further analysis\n",
    "output_path = \"../Evaluation/Component Evaluation with Scores 02.xlsx\"\n",
    "df.to_excel(output_path, index=False)\n",
    "print(f\"Done! Updated file saved to: {output_path}\")"
   ]
  },
  {
   "cell_type": "code",
   "execution_count": null,
   "metadata": {},
   "outputs": [
    {
     "name": "stdout",
     "output_type": "stream",
     "text": [
      "\n",
      "Average Scores by Query Type:\n",
      "                             BLEU     ROUGE    METEOR\n",
      "Query Type                                           \n",
      "Inappropriate Questions  0.509612  0.559899  0.584934\n",
      "Noisy Questions          0.242510  0.449458  0.504118\n",
      "Related to UNHCR         0.208361  0.401529  0.517858\n",
      "Unrelated to UNHCR       1.000000  1.000000  0.999914\n"
     ]
    },
    {
     "data": {
      "text/plain": [
       "<Figure size 1200x600 with 0 Axes>"
      ]
     },
     "metadata": {},
     "output_type": "display_data"
    },
    {
     "data": {
      "image/png": "[encoded data removed]",
      "text/plain": [
       "<Figure size 640x480 with 1 Axes>"
      ]
     },
     "metadata": {},
     "output_type": "display_data"
    },
    {
     "data": {
      "image/png": "[encoded data removed]",
      "text/plain": [
       "<Figure size 1000x600 with 2 Axes>"
      ]
     },
     "metadata": {},
     "output_type": "display_data"
    },
    {
     "name": "stdout",
     "output_type": "stream",
     "text": [
      "\n",
      "Average Time of Queries:\n",
      "Query Type\n",
      "Inappropriate Questions    12.797746\n",
      "Noisy Questions            12.300041\n",
      "Related to UNHCR           12.295743\n",
      "Unrelated to UNHCR          8.484227\n",
      "Name: Total Time, dtype: float64\n",
      "\n",
      "Overall Average Time: 11.945 seconds\n"
     ]
    }
   ],
   "source": [
    "import pandas as pd\n",
    "import matplotlib.pyplot as plt\n",
    "import seaborn as sns\n",
    "\n",
    "\"\"\"\n",
    "Analyze scores (BLEU, ROUGE, METEOR) grouped by query type.\n",
    "Visualize average scores and response times using:\n",
    "- Bar plots\n",
    "- Heatmaps\n",
    "\n",
    "This reveals which query categories the chatbot handles well or struggles with. \n",
    "This is useful for comparing agains previous versions of the pipeline.\n",
    "\"\"\"\n",
    "\n",
    "# Read the Excel file\n",
    "df = pd.read_excel(\"../Evaluation/Component Evaluation with Scores 02.xlsx\")\n",
    "\n",
    "# Calculate average scores by Query Type\n",
    "avg_scores = df.groupby('Query Type')[['BLEU', 'ROUGE', 'METEOR']].mean()\n",
    "print(\"\\nAverage Scores by Query Type:\")\n",
    "print(avg_scores)\n",
    "\n",
    "# Create a bar plot\n",
    "plt.figure(figsize=(12, 6))\n",
    "avg_scores.plot(kind='bar', width=0.8)\n",
    "plt.title('Average Scores by Query Type')\n",
    "plt.xlabel('Query Type')\n",
    "plt.ylabel('Score')\n",
    "plt.legend(title='Metrics')\n",
    "plt.xticks(rotation=45, ha='right')\n",
    "plt.tight_layout()\n",
    "plt.show()\n",
    "\n",
    "# Create a heatmap\n",
    "plt.figure(figsize=(10, 6))\n",
    "sns.heatmap(avg_scores, annot=True, cmap='YlOrRd', fmt='.3f')\n",
    "plt.title('Heatmap of Scores by Query Type')\n",
    "plt.xlabel('Metrics')\n",
    "plt.ylabel('Query Type')\n",
    "plt.tight_layout()\n",
    "plt.show()\n",
    "\n",
    "# Calculate average time\n",
    "avg_time = df.groupby('Query Type')['Total Time'].mean()\n",
    "print(\"\\nAverage Time of Queries:\")\n",
    "print(avg_time)\n",
    "overall_avg_time = df['Total Time'].mean()\n",
    "print(f\"\\nOverall Average Time: {overall_avg_time:.3f} seconds\")"
   ]
  },
  {
   "cell_type": "markdown",
   "metadata": {},
   "source": [
    "#### 7.3 Evaluation of Multilingual Capabilities\n",
    "\n",
    "This section is dedicated to test the model's multilingual capability using:\n",
    "- Arabic queries translated by a native speaker\n",
    "- Ukrainian queries assisted by AI\n",
    "\n",
    "Purpose: Evaluate chatbot accessibility for refugees from high-volume language groups.\n",
    "\n",
    "Note: Manual validation was limited due to language constraints, but multilingual embedding models ensure future compatibility.\n"
   ]
  },
  {
   "cell_type": "markdown",
   "metadata": {},
   "source": [
    "**Arabic**"
   ]
  },
  {
   "cell_type": "code",
   "execution_count": null,
   "metadata": {},
   "outputs": [
    {
     "data": {
      "text/plain": [
       "'UNHCR in Denmark works to protect the rights of temporary protection beneficiaries, asylum-seekers, refugees, and stateless persons, providing support and services free of charge. UNHCR supports national authorities in executing their duties according to international and European standards, but is not involved in the Danish asylum procedure, which is managed by the Danish Immigration Service. For further information, please visit: https://help.unhcr.org/denmark/about-unhcr-in-denmark/'"
      ]
     },
     "execution_count": 22,
     "metadata": {},
     "output_type": "execute_result"
    }
   ],
   "source": [
    "# Query translation in English: \"What does UNHCR do in Denmark?\"\n",
    "\n",
    "arabic_query_1 = \"ماذا تفعل UNHCR في الدنمارك؟\"\n",
    "generate_answer_without_reformulation(arabic_query_1)\t"
   ]
  },
  {
   "cell_type": "code",
   "execution_count": 35,
   "metadata": {},
   "outputs": [
    {
     "data": {
      "text/plain": [
       "\"To apply for family reunification in Denmark, you must be a legal resident. Visit the Danish Immigration Service's website (https://nyidanmark.dk) for detailed guidelines and the application form. If your application is rejected, you can appeal on their online portal (English: https://nyidanmark.dk/en-GB/You-have-received-an-answer/Family/Family-reunification/No-to-family-reunification/, Danish: https://nyidanmark.dk/da/ReceivedReply/Family/Family%20reunification/No%20to%20family%20reunification). For additional information, please refer to the provided links.\""
      ]
     },
     "execution_count": 35,
     "metadata": {},
     "output_type": "execute_result"
    }
   ],
   "source": [
    "# Query translation in English: \"How can I apply for family reunification?\"\n",
    "\n",
    "arabic_query_2 = \"كيف يمكنني ان اقدّم بطلب لم شمل الأسرة؟\"\n",
    "generate_answer_without_reformulation(arabic_query_2)\t"
   ]
  },
  {
   "cell_type": "code",
   "execution_count": null,
   "metadata": {},
   "outputs": [
    {
     "data": {
      "text/plain": [
       "\"To apply for asylum in Denmark, you can follow the process outlined on the UNHCR website: https://help.unhcr.org/denmark/uk/how-to-apply-for-asylum-in-denmark/how-to-apply-for-asylum/. Regardless of your current residency status, the application procedure can vary, so it's important to check the specific requirements for your situation. For additional information, please visit: https://help.unhcr.org/denmark/uk/how-to-apply-for-asylum-in-denmark/how-to-apply-for-asylum/\""
      ]
     },
     "execution_count": 36,
     "metadata": {},
     "output_type": "execute_result"
    }
   ],
   "source": [
    "# Query translation in English: \"How do I apply for asylum in Denmark?\"\n",
    "\n",
    "arabic_query_3 = \"كيف يمكنني ان اقدّم بطلب اللجوء؟\"\n",
    "generate_answer_without_reformulation(arabic_query_3)\t   "
   ]
  },
  {
   "cell_type": "code",
   "execution_count": 37,
   "metadata": {},
   "outputs": [
    {
     "data": {
      "text/plain": [
       "\"If your asylum application is denied, your case is automatically appealed to the Danish Refugee Appeals Board. You don't need to take any action to start the appeal process as it's handled by the board. For more information, please visit: https://help.unhcr.org/denmark/uk/how-to-apply-for-asylum-in-denmark/can-i-appeal-a-negative-decision/.\""
      ]
     },
     "execution_count": 37,
     "metadata": {},
     "output_type": "execute_result"
    }
   ],
   "source": [
    "# Query translation in English: \"Can I appeal a negative asylum decision?\"\n",
    "\n",
    "arabic_query_4 = \"هل يمكنني الاستئناف على قرار اللجوء؟\"\n",
    "generate_answer_without_reformulation(arabic_query_4)"
   ]
  },
  {
   "cell_type": "code",
   "execution_count": 38,
   "metadata": {},
   "outputs": [
    {
     "data": {
      "text/plain": [
       "'To submit a refugee status application in Denmark, you must apply at the Danish Immigration Service (UDI). Visit their official website or contact them directly for detailed instructions on the application process. For additional information, please refer to: https://help.unhcr.org/denmark/how-to-apply-for-asylum-in-denmark/what-are-my-rights-and-obligations-as-asylum-seeker/.'"
      ]
     },
     "execution_count": 38,
     "metadata": {},
     "output_type": "execute_result"
    }
   ],
   "source": [
    "# Query translation in English: \"Where do I go to apply for asylum in Denmark?\"\n",
    "\n",
    "arabic_query_5 =\"أين أذهب لتقديم طلب اللجوء؟\"\n",
    "generate_answer_without_reformulation(arabic_query_5)\n",
    "\n"
   ]
  },
  {
   "cell_type": "markdown",
   "metadata": {},
   "source": [
    "**Ukrainian**"
   ]
  },
  {
   "cell_type": "code",
   "execution_count": null,
   "metadata": {},
   "outputs": [
    {
     "data": {
      "text/plain": [
       "'UNHCR in Denmark supports the national authorities in executing their duties according to international and European standards, but does not partake in the family reunification process. This process is managed by the Danish Immigration Service under the Danish Ministry of Immigration and Integration. For additional information, please visit: https://help.unhcr.org/denmark/uk/about-unhcr-in-denmark/, https://help.unhcr.org/denmark/uk/applying-for-family-reunification/applying-for-family-reunification/.'"
      ]
     },
     "execution_count": 39,
     "metadata": {},
     "output_type": "execute_result"
    }
   ],
   "source": [
    "# Query translation in English: \"What does UNHCR do in Denmark?\"\n",
    "\n",
    "ukrainian_query_1 = \"Чим займається УВКБ ООН в Данії?\"\n",
    "generate_answer_without_reformulation(ukrainian_query_1)"
   ]
  },
  {
   "cell_type": "code",
   "execution_count": 40,
   "metadata": {},
   "outputs": [
    {
     "data": {
      "text/plain": [
       "'You can apply for family reunification through the online portal of the Danish immigration authorities. Visit https://nyidanmark.dk/en-GB/You-want-to-apply/Family/Family-reunification for English, or https://nyidanmark.dk/da/Applying/Familie/Familiesammenforing for Danish. For additional information, please visit: https://help.unhcr.org/denmark/uk/applying-for-family-reunification/applying-for-family-reunification/, https://help.unhcr.org/denmark/applying-for-family-reunification/.'"
      ]
     },
     "execution_count": 40,
     "metadata": {},
     "output_type": "execute_result"
    }
   ],
   "source": [
    "# Query translation in English: \"How can I apply for family reunification?\"\n",
    "\n",
    "ukrainian_query_2 = \"Як я можу подати заяву на возз'єднання сім'ї?\"\n",
    "generate_answer_without_reformulation(ukrainian_query_2)"
   ]
  },
  {
   "cell_type": "code",
   "execution_count": 41,
   "metadata": {},
   "outputs": [
    {
     "data": {
      "text/plain": [
       "'Watch a video guide in Ukrainian to apply online for Temporary Protection by the Danish Immigration Service at https://www.nyidanmark.dk/en-GB/You-want-to-apply/Ukraine/Displaced-from-Ukraine?anchor=howtoapply. Additionally, for more detailed steps, visit https://help.unhcr.org/denmark/how-to-apply-for-asylum-in-denmark/.'"
      ]
     },
     "execution_count": 41,
     "metadata": {},
     "output_type": "execute_result"
    }
   ],
   "source": [
    "# Query translation in English: \"How do I apply for asylum in Denmkark?\"\n",
    "\n",
    "ukrainian_query_3 = \"Як подати заяву на отримання притулку в Данії??\"\n",
    "generate_answer_without_reformulation(ukrainian_query_3)"
   ]
  },
  {
   "cell_type": "code",
   "execution_count": 42,
   "metadata": {},
   "outputs": [
    {
     "data": {
      "text/plain": [
       "'Если ваше притулкове прийняття буде відмовлено, ви отримаєте рішення в письмовому повідомленні, що включає причини відмови. Процес автоматично перейде на Danish Refugee Appeals Board без необхідності у вас подані подальших кроків. Для детальної інформації про процес оскарження наданого рішення, відвідайте: https://help.unhcr.org/denmark/how-to-apply-for-asylum-in-denmark/can-i-appeal-a-negative-decision/.'"
      ]
     },
     "execution_count": 42,
     "metadata": {},
     "output_type": "execute_result"
    }
   ],
   "source": [
    "# Query translation in English: \"Can I appeal a negative asylum decision?\"\n",
    "\n",
    "ukrainian_query_4 = \"Чи можу я оскаржити негативне рішення про надання притулку??\"\n",
    "generate_answer_without_reformulation(ukrainian_query_4)"
   ]
  },
  {
   "cell_type": "code",
   "execution_count": 43,
   "metadata": {},
   "outputs": [
    {
     "data": {
      "text/plain": [
       "\"I'm sorry, I can only answer questions related to UNHCR and refugee services in Denmark.\""
      ]
     },
     "execution_count": 43,
     "metadata": {},
     "output_type": "execute_result"
    }
   ],
   "source": [
    "# Query translation in English: \"Who won the last Super Bowl?\"\n",
    "\n",
    "ukrainian_query_5 = \"Хто виграв останній Суперкубок??\"\n",
    "generate_answer_without_reformulation(ukrainian_query_5)"
   ]
  }
 ],
 "metadata": {
  "kernelspec": {
   "display_name": "rag_model_env",
   "language": "python",
   "name": "python3"
  },
  "language_info": {
   "codemirror_mode": {
    "name": "ipython",
    "version": 3
   },
   "file_extension": ".py",
   "mimetype": "text/x-python",
   "name": "python",
   "nbconvert_exporter": "python",
   "pygments_lexer": "ipython3",
   "version": "3.11.9"
  }
 },
 "nbformat": 4,
 "nbformat_minor": 2
}
